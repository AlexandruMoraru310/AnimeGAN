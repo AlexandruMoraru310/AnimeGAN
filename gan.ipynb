{
 "cells": [
  {
   "cell_type": "code",
   "execution_count": 1,
   "metadata": {},
   "outputs": [],
   "source": [
    "import os\n",
    "import torch\n",
    "from torch.utils.data import Dataset, DataLoader\n",
    "import torchvision.transforms as T\n",
    "from torchvision.io import read_image\n",
    "import matplotlib.pyplot as plt"
   ]
  },
  {
   "cell_type": "code",
   "execution_count": 2,
   "metadata": {},
   "outputs": [
    {
     "name": "stdout",
     "output_type": "stream",
     "text": [
      "cuda:0\n"
     ]
    }
   ],
   "source": [
    "device = torch.device(\"cuda:0\" if torch.cuda.is_available() else \"cpu\")\n",
    "print(device)"
   ]
  },
  {
   "cell_type": "code",
   "execution_count": 3,
   "metadata": {},
   "outputs": [],
   "source": [
    "class AnimeDataset(Dataset):\n",
    "\n",
    "    def __init__(self, root):\n",
    "\n",
    "        self.root = root\n",
    "        self.images = sorted(os.listdir(root))\n",
    "        self.transform = T.ConvertImageDtype(torch.get_default_dtype())\n",
    "\n",
    "    def __len__(self):\n",
    "\n",
    "        return len(self.images)\n",
    "\n",
    "    def __getitem__(self, idx):\n",
    "\n",
    "        img_path = os.path.join(self.root, self.images[idx])\n",
    "        image = read_image(img_path)\n",
    "        image = self.transform(image)\n",
    "        return image"
   ]
  },
  {
   "cell_type": "code",
   "execution_count": 4,
   "metadata": {},
   "outputs": [],
   "source": [
    "train_data = AnimeDataset(\"/home/alexandru/data/AnimeGAN/train\")\n",
    "train_dataloader = DataLoader(train_data, batch_size=32, shuffle=True, num_workers=4, drop_last=True)"
   ]
  },
  {
   "cell_type": "code",
   "execution_count": 8,
   "metadata": {},
   "outputs": [
    {
     "name": "stdout",
     "output_type": "stream",
     "text": [
      "Feature batch shape: torch.Size([32, 3, 512, 512])\n",
      "Feature batch shape: torch.Size([512, 512, 3])\n"
     ]
    }
   ],
   "source": [
    "train_features = next(iter(train_dataloader))\n",
    "print(f\"Feature batch shape: {train_features.size()}\")\n",
    "\n",
    "img = train_features[0, ...].permute((2,1,0))\n",
    "print(f\"Feature batch shape: {img.size()}\")\n",
    "plt.imshow(img, cmap=\"gray\")\n",
    "plt.show()"
   ]
  }
 ],
 "metadata": {
  "interpreter": {
   "hash": "f83d409bc3e2a86ec8aabbb5270feee49cf0506e47bf97b67378141bac911baa"
  },
  "kernelspec": {
   "display_name": "Python 3.9.7 64-bit ('pytorch1_10': conda)",
   "name": "python3"
  },
  "language_info": {
   "codemirror_mode": {
    "name": "ipython",
    "version": 3
   },
   "file_extension": ".py",
   "mimetype": "text/x-python",
   "name": "python",
   "nbconvert_exporter": "python",
   "pygments_lexer": "ipython3",
   "version": "3.9.7"
  },
  "orig_nbformat": 4
 },
 "nbformat": 4,
 "nbformat_minor": 2
}
